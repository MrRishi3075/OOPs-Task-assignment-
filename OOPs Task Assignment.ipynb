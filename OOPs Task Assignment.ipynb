{
 "cells": [
  {
   "cell_type": "markdown",
   "id": "2801db44-275e-4214-b920-aea3608c2609",
   "metadata": {},
   "source": [
    "Q1, Create a vehicle class with an init method having instance variables as name_of_vehicle, max_speed\n",
    "and average_of_vehicle. "
   ]
  },
  {
   "cell_type": "code",
   "execution_count": 1,
   "id": "c1639568-8a46-4689-8894-945f9fa26644",
   "metadata": {},
   "outputs": [],
   "source": [
    "class vehicle :\n",
    "    def __init__ (self , name_of_vehicle , max_speed , average_of_vehicle):\n",
    "        self.name_of_vehicle = name_of_vehicle\n",
    "        self.max_speed = max_speed\n",
    "        self.average_speed = average_of_vehicle"
   ]
  },
  {
   "cell_type": "code",
   "execution_count": 2,
   "id": "3e5502a7-6bdc-458e-a945-c6bf97c6c4f7",
   "metadata": {},
   "outputs": [],
   "source": [
    "car = vehicle ( \"mahindra xuv 700\" , 220 , 25 )"
   ]
  },
  {
   "cell_type": "code",
   "execution_count": 3,
   "id": "adad3bbc-777a-49db-adc7-a2e3ae7ca010",
   "metadata": {},
   "outputs": [
    {
     "name": "stdout",
     "output_type": "stream",
     "text": [
      "mahindra xuv 700\n",
      "220\n",
      "25\n"
     ]
    }
   ],
   "source": [
    "car = vehicle(\"mahindra xuv 700\" , 220 , 25 )\n",
    "print(car.name_of_vehicle)     \n",
    "print(car.max_speed)\n",
    "print(car.average_speed)     \n"
   ]
  },
  {
   "cell_type": "markdown",
   "id": "74e12fa9-15bb-466e-a296-f5b420727571",
   "metadata": {},
   "source": [
    "Q2.  Create a child class car from the vehicle class created in Que 1, which will inherit the vehicle class.\n",
    "Create a method named seating_capacity which takes capacity as an argument and returns the name of\n",
    "the vehicle and its seating capacity."
   ]
  },
  {
   "cell_type": "code",
   "execution_count": 4,
   "id": "d3ce7c7c-cfba-49ad-a611-37f91641fa3f",
   "metadata": {},
   "outputs": [],
   "source": [
    "class car(vehicle):\n",
    "    def __init__(self, name_of_vehicle, max_speed, average_speed):\n",
    "        super().__init__(name_of_vehicle, max_speed, average_speed)\n",
    "\n",
    "    def seating_capacity(self, capacity):\n",
    "        return f\"{self.name_of_vehicle} has a seating capacity of {capacity} people.\"\n"
   ]
  },
  {
   "cell_type": "code",
   "execution_count": 5,
   "id": "ed36631a-7011-4e85-8c0c-8209d30d227e",
   "metadata": {},
   "outputs": [
    {
     "name": "stdout",
     "output_type": "stream",
     "text": [
      "mahindra xuv 700 has a seating capacity of 5 people.\n"
     ]
    }
   ],
   "source": [
    "car = car(\"mahindra xuv 700\" , 220 , 25 )\n",
    "print(car.seating_capacity(5))\n"
   ]
  },
  {
   "cell_type": "code",
   "execution_count": 6,
   "id": "00b5282d-858a-490e-b143-a333bfff0727",
   "metadata": {},
   "outputs": [
    {
     "ename": "TypeError",
     "evalue": "'car' object is not callable",
     "output_type": "error",
     "traceback": [
      "\u001b[0;31m---------------------------------------------------------------------------\u001b[0m",
      "\u001b[0;31mTypeError\u001b[0m                                 Traceback (most recent call last)",
      "Cell \u001b[0;32mIn[6], line 1\u001b[0m\n\u001b[0;32m----> 1\u001b[0m car \u001b[38;5;241m=\u001b[39m \u001b[43mcar\u001b[49m\u001b[43m(\u001b[49m\u001b[38;5;124;43m\"\u001b[39;49m\u001b[38;5;124;43mmahindra xuv 700\u001b[39;49m\u001b[38;5;124;43m\"\u001b[39;49m\u001b[43m \u001b[49m\u001b[43m,\u001b[49m\u001b[43m \u001b[49m\u001b[38;5;241;43m220\u001b[39;49m\u001b[43m \u001b[49m\u001b[43m,\u001b[49m\u001b[43m \u001b[49m\u001b[38;5;241;43m25\u001b[39;49m\u001b[43m \u001b[49m\u001b[43m)\u001b[49m\n\u001b[1;32m      2\u001b[0m \u001b[38;5;28mprint\u001b[39m(car\u001b[38;5;241m.\u001b[39mseating_capacity(\u001b[38;5;241m7\u001b[39m))\n",
      "\u001b[0;31mTypeError\u001b[0m: 'car' object is not callable"
     ]
    }
   ],
   "source": [
    "car = car(\"mahindra xuv 700\" , 220 , 25 )\n",
    "print(car.seating_capacity(7))\n"
   ]
  },
  {
   "cell_type": "markdown",
   "id": "2fa29e4f-ee2a-4afd-a235-eb801da5ba66",
   "metadata": {},
   "source": [
    "Q3. What is multiple inheritance? Write a python code to demonstrate multiple inheritance."
   ]
  },
  {
   "cell_type": "code",
   "execution_count": 7,
   "id": "877647fa-1867-40be-a5f3-cda1ea3aae19",
   "metadata": {},
   "outputs": [],
   "source": [
    "class Parent1:\n",
    "    def method1(self):\n",
    "        print(\"This is method 1 from Parent 1\")\n",
    "\n",
    "class Parent2:\n",
    "    def method2(self):\n",
    "        print(\"This is method 2 from Parent 2\")\n",
    "\n",
    "class Child(Parent1, Parent2):\n",
    "    def method3(self):\n",
    "        print(\"This is method 3 from Child\")\n",
    "\n"
   ]
  },
  {
   "cell_type": "code",
   "execution_count": 16,
   "id": "340d8510-6f73-433f-a803-acbff14344e9",
   "metadata": {},
   "outputs": [],
   "source": [
    "child = Child()"
   ]
  },
  {
   "cell_type": "code",
   "execution_count": 17,
   "id": "1a681c2b-5154-4bac-935d-b4fb83fdad37",
   "metadata": {},
   "outputs": [
    {
     "name": "stdout",
     "output_type": "stream",
     "text": [
      "This is method 1 from Parent 1\n"
     ]
    }
   ],
   "source": [
    "child.method1()"
   ]
  },
  {
   "cell_type": "code",
   "execution_count": 18,
   "id": "bc331eca-fc4e-43e4-b748-f9ec452bf96f",
   "metadata": {},
   "outputs": [
    {
     "name": "stdout",
     "output_type": "stream",
     "text": [
      "This is method 2 from Parent 2\n"
     ]
    }
   ],
   "source": [
    "child.method2()"
   ]
  },
  {
   "cell_type": "code",
   "execution_count": 19,
   "id": "b5ef0786-fef8-405b-9d3f-7551eabd34e6",
   "metadata": {},
   "outputs": [
    {
     "name": "stdout",
     "output_type": "stream",
     "text": [
      "This is method 3 from Child\n"
     ]
    }
   ],
   "source": [
    "child.method3()   "
   ]
  },
  {
   "cell_type": "markdown",
   "id": "761b02a7-1f7a-4087-83ef-0ddd6a3a9a39",
   "metadata": {},
   "source": [
    "\n",
    "\n",
    "\n",
    "\n",
    "\n",
    "\n",
    "Q4. What are getter and setter in python? Create a class and create a getter and a setter method in this\n",
    "class."
   ]
  },
  {
   "cell_type": "code",
   "execution_count": 21,
   "id": "d860c089-9726-4180-bafc-a7cfde6c32d3",
   "metadata": {},
   "outputs": [],
   "source": [
    "class Person:\n",
    "    def __init__(self):\n",
    "        self._name = \"\"\n",
    "\n",
    "    def get_name(self):\n",
    "        return self._name\n",
    "\n",
    "    def set_name(self, name):\n",
    "        if isinstance(name, str):\n",
    "            self._name = name\n",
    "        else:\n",
    "            raise ValueError(\"Name must be a string.\")\n"
   ]
  },
  {
   "cell_type": "code",
   "execution_count": 25,
   "id": "e839d5ea-f817-419e-95f6-3701adf826b6",
   "metadata": {},
   "outputs": [],
   "source": [
    "person = Person()"
   ]
  },
  {
   "cell_type": "code",
   "execution_count": 26,
   "id": "870c9d27-89f6-4da9-982e-4ede0502c635",
   "metadata": {},
   "outputs": [],
   "source": [
    "person.set_name(\"John Doe\")"
   ]
  },
  {
   "cell_type": "code",
   "execution_count": 27,
   "id": "5e067c94-c6ed-4ae3-849f-67e5f43200be",
   "metadata": {},
   "outputs": [
    {
     "name": "stdout",
     "output_type": "stream",
     "text": [
      "John Doe\n"
     ]
    }
   ],
   "source": [
    "print(person.get_name())    "
   ]
  },
  {
   "cell_type": "code",
   "execution_count": 29,
   "id": "24c8522e-5c0e-420a-853d-d400815d5fcd",
   "metadata": {},
   "outputs": [],
   "source": [
    "person.set_name(\"rishi\")"
   ]
  },
  {
   "cell_type": "code",
   "execution_count": 31,
   "id": "f7881a17-030a-48a7-a3a0-695bf1a33dec",
   "metadata": {},
   "outputs": [
    {
     "name": "stdout",
     "output_type": "stream",
     "text": [
      "rishi\n"
     ]
    }
   ],
   "source": [
    "print(person.get_name())"
   ]
  },
  {
   "cell_type": "markdown",
   "id": "e38fccd7-a987-41ca-89d3-42472f278168",
   "metadata": {},
   "source": [
    "#\n",
    "Q5.What is method overriding in python? Write a python code to demonstrate method overriding."
   ]
  },
  {
   "cell_type": "code",
   "execution_count": 32,
   "id": "45369568-522a-40d6-88c7-a2678f8bab49",
   "metadata": {},
   "outputs": [],
   "source": [
    "class Animal:\n",
    "    def make_sound(self):\n",
    "        print(\"The animal makes a sound.\")\n",
    "\n",
    "class Dog(Animal):\n",
    "    def make_sound(self):\n",
    "        print(\"The dog barks.\")\n",
    "\n"
   ]
  },
  {
   "cell_type": "code",
   "execution_count": 33,
   "id": "dad5df54-0eb9-41ba-95d5-92fe7783f469",
   "metadata": {},
   "outputs": [],
   "source": [
    "animal = Animal()"
   ]
  },
  {
   "cell_type": "code",
   "execution_count": 34,
   "id": "0f4c3ff8-067a-4114-bd7f-5c9d03c8e957",
   "metadata": {},
   "outputs": [],
   "source": [
    "dog = Dog()"
   ]
  },
  {
   "cell_type": "code",
   "execution_count": 39,
   "id": "60aba550-dfb0-4edc-b056-1584d0d64610",
   "metadata": {},
   "outputs": [
    {
     "name": "stdout",
     "output_type": "stream",
     "text": [
      "The animal makes a sound.\n"
     ]
    }
   ],
   "source": [
    "animal.make_sound()"
   ]
  },
  {
   "cell_type": "code",
   "execution_count": 40,
   "id": "176436da-9138-491b-9007-ad00e55ce234",
   "metadata": {},
   "outputs": [
    {
     "name": "stdout",
     "output_type": "stream",
     "text": [
      "The dog barks.\n"
     ]
    }
   ],
   "source": [
    "dog.make_sound()"
   ]
  },
  {
   "cell_type": "code",
   "execution_count": 41,
   "id": "d1a6e167-2ee2-4e7e-a79b-06684852f74e",
   "metadata": {},
   "outputs": [],
   "source": [
    "class People:\n",
    "    def make_speech(self):\n",
    "        \n",
    "        print(\"My Name Is Rishikesh\")\n",
    "    \n",
    "class Ramesh(People):\n",
    "    def make_speech(self):\n",
    "        print(\"Hello Mr And Ms , My name Is ramesh\")"
   ]
  },
  {
   "cell_type": "code",
   "execution_count": 42,
   "id": "9b4caac1-e84b-4d39-8007-d785bc2dd1d2",
   "metadata": {},
   "outputs": [],
   "source": [
    "people = People()"
   ]
  },
  {
   "cell_type": "code",
   "execution_count": 43,
   "id": "d4a8f4dd-920a-4012-957f-a62a9055444a",
   "metadata": {},
   "outputs": [],
   "source": [
    "ramesh = Ramesh()"
   ]
  },
  {
   "cell_type": "code",
   "execution_count": 44,
   "id": "f6a11d63-f429-4bd6-9394-aa2c5e8d2ca3",
   "metadata": {},
   "outputs": [
    {
     "name": "stdout",
     "output_type": "stream",
     "text": [
      "My Name Is Rishikesh\n"
     ]
    }
   ],
   "source": [
    "people.make_speech()"
   ]
  },
  {
   "cell_type": "code",
   "execution_count": 45,
   "id": "e565fa82-735d-4d27-a6c3-2740384f2c52",
   "metadata": {},
   "outputs": [
    {
     "name": "stdout",
     "output_type": "stream",
     "text": [
      "Hello Mr And Ms , My name Is ramesh\n"
     ]
    }
   ],
   "source": [
    "ramesh.make_speech()"
   ]
  },
  {
   "cell_type": "code",
   "execution_count": null,
   "id": "6fb95dd3-163c-42a6-8122-32f688935b58",
   "metadata": {},
   "outputs": [],
   "source": []
  }
 ],
 "metadata": {
  "kernelspec": {
   "display_name": "Python 3 (ipykernel)",
   "language": "python",
   "name": "python3"
  },
  "language_info": {
   "codemirror_mode": {
    "name": "ipython",
    "version": 3
   },
   "file_extension": ".py",
   "mimetype": "text/x-python",
   "name": "python",
   "nbconvert_exporter": "python",
   "pygments_lexer": "ipython3",
   "version": "3.10.8"
  }
 },
 "nbformat": 4,
 "nbformat_minor": 5
}
